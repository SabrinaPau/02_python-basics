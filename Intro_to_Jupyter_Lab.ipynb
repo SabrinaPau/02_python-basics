{
 "cells": [
  {
   "cell_type": "markdown",
   "metadata": {},
   "source": [
    "# Intro to Jupyter Lab\n",
    "\n",
    "Here we are, starting with using yet another tool: Jupyter Lab. You will soon see, that there are many similarities to Colab, so it's not a huge stretch to get aquainted here too.\n",
    "\n",
    "## Objectives\n",
    "\n",
    "At the end of this notebook you will be able to:\n",
    "\n",
    "- run cells in jupyter lab and change them to markdown or code cell\n",
    "- differentiate between Command and Edit Mode and to change between them\n",
    "- run UNIX commands in Jupyter Lab\n",
    "- receiving help from docstrings \n",
    "\n",
    "## Running Cells\n",
    "\n",
    "**Welcome to programming!**\n",
    "Juptyer Notebooks (historically called IPython Notebooks) will be our primary tool when conducting data science. The first thing to know with this is that each cell block [of code] can be run be pressing **shift+enter**. Try running the below code block:"
   ]
  },
  {
   "cell_type": "code",
   "execution_count": null,
   "metadata": {},
   "outputs": [],
   "source": [
    "print('This is code being run.')"
   ]
  },
  {
   "cell_type": "markdown",
   "metadata": {},
   "source": [
    "## Cell Types\n",
    "\n",
    "You might have started to notice that the code blocks have little notes that say **In [ ]:** before you run them, and then are filled with a number after you run them. This is important, as it tells you what order cell blocks were run. (Which can sometimes affect how a program runs.)\n",
    "\n",
    "You may also notice that other cell blocks, such as this one, do not have the **In [ ]:** label as with the code blocks. This is because this cell block is formatted as **Markdown** (rather then code. The details of Markdown are not important here but just know you can use markdown cell blocks to display text. They are really useful for embedding notes and explanations in your Jupyter Notebook. You can see (and change) what type of cell is by clicking the dropdown menu at the top.\n",
    "\n",
    "<img src=\"images/jupyter_cell_type.png\" width=\"800\">\n"
   ]
  },
  {
   "cell_type": "markdown",
   "metadata": {},
   "source": [
    "## Command Versus Edit Mode\n",
    "\n",
    "We distinguish between two modes in jupyter lab, one is the edit mode where you can write code or notes, the other is the command mode where you can delete or copy cells.\n",
    "\n",
    "To switch from edit mode to command mode, you can press **esc**, (you cannot write in the cell now) and press **Enter** to enter edit mode again.\n",
    "\n",
    "\n",
    "### Edit Mode\n",
    "Edit mode is the standard mode for editing cells, whether it's writing code or notes.\n",
    "To enter edit mode from command mode simply hit enter, or double click on a cell.\n",
    "\n",
    "### Command Mode\n",
    "In command mode, you can delete cells, add cells, copy cells, paste cells, change cell types, and more. You can also do these tasks in a more cumbersome (and time consuming) manner by using the various headers in the menu bar at top.\n",
    "\n",
    "\n",
    "<img src=\"images/jupyter_commandS.png\" width=\"800\">\n"
   ]
  },
  {
   "cell_type": "markdown",
   "metadata": {},
   "source": [
    " You can also see a full list of shortcuts available in command and edit mode at the right und \"Commands\".\n",
    " \n",
    " <img src=\"images/jupyter_shortcuts.png\" width=\"800\">"
   ]
  },
  {
   "cell_type": "markdown",
   "metadata": {},
   "source": [
    "\n",
    "\n",
    "If you want to learn more about the functionalities of jupyter lab, here is the [documentation](https://jupyterlab.readthedocs.io/en/stable/user/notebook.html)."
   ]
  },
  {
   "cell_type": "markdown",
   "metadata": {},
   "source": [
    "## Running Bash Commands\n",
    "\n",
    "We can also run bash commands just as we did before from the terminal directly within Jupyter Notebooks!  \n",
    " (Note: bash commands cannot be mixed with python and must be in their own cell block.)   \n",
    " \n",
    "Try it out!"
   ]
  },
  {
   "cell_type": "code",
   "execution_count": null,
   "metadata": {},
   "outputs": [],
   "source": [
    "pwd"
   ]
  },
  {
   "cell_type": "code",
   "execution_count": null,
   "metadata": {},
   "outputs": [],
   "source": [
    "ls"
   ]
  },
  {
   "cell_type": "markdown",
   "metadata": {},
   "source": [
    "## Autocomplete and getting Help\n",
    "\n",
    "\n",
    "Like in Colab there is the autocomplete function. When you start typing code, you can see a subset of the available commands **when you press tap**. You can use \"enter\" to auto-complete the first command, otherwise you can use the arrow keys to scroll through all the commands and press \"enter\" to complete the command.\n",
    "\n",
    " <img src=\"images/jupyter_autocomplete.png\" width=\"800\">"
   ]
  },
  {
   "cell_type": "code",
   "execution_count": null,
   "metadata": {},
   "outputs": [],
   "source": []
  },
  {
   "cell_type": "markdown",
   "metadata": {},
   "source": [
    "\n",
    "## Call Docstrings\n",
    "\n",
    "And of course docstrings are working here too! \n",
    "You can do this by writing **?** after the method and executing the cell:\n",
    "\n",
    " <img src=\"images/jupyter_docstring_2.png\" width=\"800\">\n",
    "\n",
    "\n",
    "Or you use **shift + tab** to get help automatically without executing the cell.\n",
    "\n",
    " <img src=\"images/jupyter_docstring.png\" width=\"800\">\n",
    "\n",
    "Try it out!"
   ]
  },
  {
   "cell_type": "markdown",
   "metadata": {},
   "source": [
    "## Stop Execution\n",
    "\n",
    "Long running python processes can be interrupted. Run the following cell and select **Kernel -> Interrupt kernel** to stop execution.\n",
    "Try it out:"
   ]
  },
  {
   "cell_type": "code",
   "execution_count": null,
   "metadata": {},
   "outputs": [],
   "source": [
    "import time\n",
    "print(\"Sleeping\")\n",
    "time.sleep(30) # sleep for a while; interrupt me!\n",
    "print(\"Done Sleeping\")"
   ]
  },
  {
   "cell_type": "markdown",
   "metadata": {},
   "source": [
    "Sometimes Notebooks can get a bit chaotic. You might encounter that in your first project. In order for you and others to go through your notebook smoothly, it is important that the cells are executed in the correct order (from top to bottom). To check if this is possible, we recommend that you run **Kernel --> Restart Kernel and Run All Cells...** every now and then."
   ]
  },
  {
   "cell_type": "markdown",
   "metadata": {},
   "source": [
    "## Check your understanding! \n",
    "\n",
    "\n",
    "Try to do all these tasks with shortcuts! Of course, feel free to test other shortcuts to get more familiar with them too. \n",
    "\n",
    "1. Create a new cell below.\n",
    "2. Change the celltype to \"markdown\"\n",
    "3. Enter the cell and write \"print('Gratulation! You are now familiar with jupyter lab!')\" \n",
    "4. Exit the edit mode and change celltype to \"Code\"\n",
    "5. Copy the cell and paste it below.\n",
    "6. Delete the last cell again.\n",
    "7. Run the cell --> you're done :) \n",
    "\n"
   ]
  },
  {
   "cell_type": "code",
   "execution_count": null,
   "metadata": {},
   "outputs": [],
   "source": []
  }
 ],
 "metadata": {
  "kernelspec": {
   "display_name": "Python 3",
   "language": "python",
   "name": "python3"
  },
  "language_info": {
   "codemirror_mode": {
    "name": "ipython",
    "version": 3
   },
   "file_extension": ".py",
   "mimetype": "text/x-python",
   "name": "python",
   "nbconvert_exporter": "python",
   "pygments_lexer": "ipython3",
   "version": "3.8.5"
  }
 },
 "nbformat": 4,
 "nbformat_minor": 4
}
