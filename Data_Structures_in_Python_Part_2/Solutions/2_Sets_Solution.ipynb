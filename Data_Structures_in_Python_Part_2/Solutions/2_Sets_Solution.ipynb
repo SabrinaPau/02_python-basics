{
 "cells": [
  {
   "cell_type": "markdown",
   "source": [
    "# Sets"
   ],
   "metadata": {}
  },
  {
   "cell_type": "markdown",
   "source": [
    "## Check your understanding!\n",
    "\n",
    "**Part 1**\n",
    "\n",
    "1. Make a set called `first_set` with the values 1-10 and another with the values 5-15 called `second_set`.\n",
    "2. Add the value 11 to `first_set`.\n",
    "3. Add the string `'hello'` to `second_set`.\n",
    "4. Using one of the methods discussed above, find what elements `first_set` and `second_set` have in common.\n",
    "5. In one line of code, add all the elements of `second_set` to `first_set`."
   ],
   "metadata": {}
  },
  {
   "cell_type": "code",
   "execution_count": null,
   "source": [
    "first_set = set([1,2,3,4,5,6,7,8,9,10])\n",
    "second_set = set([5,6,7,8,9,10,11,12,13,14,15])\n",
    "first_set.add(11)\n",
    "second_set.add('hello')\n",
    "first_set.intersection(second_set)\n",
    "first_set.union(second_set)"
   ],
   "outputs": [],
   "metadata": {}
  },
  {
   "cell_type": "markdown",
   "source": [
    "**Part 2**\n",
    "\n",
    "Given the lists `first_list = ['hello', 'there', 'things', 'stuff', 'other', 'soda', 'chicken wings', 'things', 'soda']` and `'second_list = ['turkey sandwich', 'guacamole', 'chicken wings', 'OJ', 'soda']`:  \n",
    "1. Find the unique elements in `first_list`.  \n",
    "2. In one line, find the common elements in the two lists.  \n",
    "3. Write a single line that outputs `True` or `False` depending on if the string `'pizza'` is in both lists."
   ],
   "metadata": {}
  },
  {
   "cell_type": "code",
   "execution_count": null,
   "source": [
    "first_list = set(['hello', 'there', 'things', 'stuff', 'other', 'soda', 'chicken wings', 'things', 'soda'])\n",
    "second_list = set(['turkey sandwich', 'guacamole', 'chicken wings', 'OJ', 'soda'])\n",
    "first_list.difference(second_list)\n",
    "first_list.intersection(second_list)\n",
    "\"pizza\" in first_list.intersection(second_list)"
   ],
   "outputs": [],
   "metadata": {}
  },
  {
   "cell_type": "code",
   "execution_count": null,
   "source": [],
   "outputs": [],
   "metadata": {}
  }
 ],
 "metadata": {
  "kernelspec": {
   "name": "python3",
   "display_name": "Python 3.8.5 64-bit ('nf_base': conda)"
  },
  "language_info": {
   "codemirror_mode": {
    "name": "ipython",
    "version": 3
   },
   "file_extension": ".py",
   "mimetype": "text/x-python",
   "name": "python",
   "nbconvert_exporter": "python",
   "pygments_lexer": "ipython3",
   "version": "3.8.5"
  },
  "interpreter": {
   "hash": "0e4771abb73651cc71498e03f3559c7e0f15f38d5124065b3832974a7bbffea7"
  }
 },
 "nbformat": 4,
 "nbformat_minor": 4
}