{
 "cells": [
  {
   "cell_type": "markdown",
   "metadata": {},
   "source": [
    "# Dictionaries"
   ]
  },
  {
   "cell_type": "markdown",
   "metadata": {},
   "source": [
    "## Check your understanding!\n",
    "\n",
    "**Part 1: Intro Dictionaries**\n",
    "\n",
    "1. Make a dictionary called `restaurant_types` that has the following associated `key-value` pairs: `('Red Lobster', 'Seafood')`, `('Burger King', 'Fast Food')`, `('Safeway', 'Grocery Store')`.\n",
    "\n",
    "2. How do you find the restaurant type for `'Burger King'`?\n",
    "3. What if you don't know whether or not `'Outback Steakhouse'` is in the `restaurant_types` dictionary - how would you go about trying to get it's restaurant type and make sure that you won't get an error?"
   ]
  },
  {
   "cell_type": "code",
   "execution_count": null,
   "metadata": {},
   "outputs": [],
   "source": [
    "#1\n",
    "restaurant_types = {'Red Lobster':'Seafood','Burger King':'Fast Food','Safeway':'Grocery Store'}\n",
    "#2\n",
    "restaurant_types['Burger King']\n",
    "#3\n",
    "print(restaurant_types.get('Outback Steakhouse')) #I get None which means it is not in the list"
   ]
  },
  {
   "cell_type": "markdown",
   "metadata": {},
   "source": [
    "**Part 2: Mutating Dictionaries**\n",
    "\n",
    "1. Using the same resturant type dictionary from the last question set, add to it the key-value pair, `('Outback Steakhouse', 'Delicious!')`.\n",
    "2. What if we want to change the restaurant type of `'Safeway'` to just `'Grocery'` - how would you make that change?\n",
    "3. Considering that we quite like `Outback Steakhouse`, it's reasonable to assume that we don't particularly like `'Burger King'`. Remove the `'Burger King'` entry from the dictionary. There are a couple of ways you can figure out how to do this:\n",
    "    1. Try tab completing on the dictionary and see if there are any methods that look like they could help.\n",
    "    2. Look at the docs for Python dictionaries.\n",
    "    3. Google it."
   ]
  },
  {
   "cell_type": "code",
   "execution_count": null,
   "metadata": {},
   "outputs": [],
   "source": [
    "#1\n",
    "restaurant_types['Outback Steakhouse'] = 'Delicious!'\n",
    "#2\n",
    "restaurant_types['Safeway'] = 'Grocery'\n",
    "#3\n",
    "#del restaurant_types['Burger King'] I ran the statement once so it deleted the pair\n",
    "print(restaurant_types)"
   ]
  },
  {
   "cell_type": "markdown",
   "metadata": {},
   "source": [
    "**Part 3:Looping Dictionary Questions**\n",
    "\n",
    "1. Write a for loop that prints all the keys in the restaurant types dictionary.\n",
    "2. Write a for loop that goes through all of the keys in the restaurant types dictionary and only prints the names of restaurants that are longer than 10 characters.\n",
    "3. Write a for loop that prints the all the restaurants that are of type `'Seafood'`."
   ]
  },
  {
   "cell_type": "code",
   "execution_count": null,
   "metadata": {},
   "outputs": [],
   "source": [
    "#1\n",
    "for key in restaurant_types :\n",
    "    print(key)"
   ]
  },
  {
   "cell_type": "code",
   "execution_count": null,
   "metadata": {},
   "outputs": [],
   "source": [
    "#2\n",
    "for key in restaurant_types :\n",
    "    if len(key) >= 11 : \n",
    "        print(key)"
   ]
  },
  {
   "cell_type": "code",
   "execution_count": null,
   "metadata": {},
   "outputs": [],
   "source": [
    "#3          \n",
    "for key, value in restaurant_types.items():\n",
    "    if value == 'Seafood': \n",
    "        print(key)"
   ]
  },
  {
   "cell_type": "markdown",
   "metadata": {},
   "source": [
    "**Part 4**\n",
    "\n",
    "1. Write a Python script to concatenate following dictionaries to create a new one.\n",
    "Sample Dictionary :\n",
    "```\n",
    "dic1={1:10, 2:20}\n",
    "dic2={3:30, 4:40}\n",
    "dic3={5:50, 6:60}\n",
    "```\n",
    "Expected Result : \n",
    "```{1: 10, 2: 20, 3: 30, 4: 40, 5: 50, 6: 60}```"
   ]
  },
  {
   "cell_type": "code",
   "execution_count": null,
   "metadata": {},
   "outputs": [],
   "source": [
    "#1\n",
    "dic1={1:10, 2:20}\n",
    "dic2={3:30, 4:40}\n",
    "dic3={5:50, 6:60}\n",
    "\n",
    "dic_con = {**dic1, **dic2, **dic3}\n",
    "dic_con"
   ]
  },
  {
   "cell_type": "code",
   "execution_count": null,
   "metadata": {},
   "outputs": [],
   "source": [
    "#1 (alternative approach)\n",
    "dic1={1:10, 2:20}\n",
    "dic2={3:30, 4:40}\n",
    "dic3={5:50, 6:60}\n",
    "temporary_dic = [dic1, dic2, dic3]\n",
    "new_dic = {}\n",
    "for dic in temporary_dic :\n",
    "    for val1, val2 in dic.items() :\n",
    "        new_dic[val1] = val2\n",
    "print(new_dic)"
   ]
  },
  {
   "cell_type": "markdown",
   "metadata": {},
   "source": [
    "2. Check if a certain key (1 and 7) already exist in your dictionary. If not please return \"Key not found\"."
   ]
  },
  {
   "cell_type": "code",
   "execution_count": null,
   "metadata": {},
   "outputs": [],
   "source": [
    "#2\n",
    "keys = [1,7]\n",
    "for key in keys:\n",
    "    print(dic1.get(key, \"key not found\"))"
   ]
  },
  {
   "cell_type": "code",
   "execution_count": null,
   "metadata": {},
   "outputs": [],
   "source": [
    "#2 (alternative approach)\n",
    "for val in [1,7] :\n",
    "    if val in new_dic:\n",
    "        print(str(val) + ' - Success!')\n",
    "    else: \n",
    "        print(str(val) + \" - Key not found.\")"
   ]
  },
  {
   "cell_type": "markdown",
   "metadata": {},
   "source": [
    "3. Write a Python script to generate and print a dictionary that contains a number (between 1 and 10) in the form (x, x*x). (hint: use a for loop)"
   ]
  },
  {
   "cell_type": "code",
   "execution_count": null,
   "metadata": {},
   "outputs": [],
   "source": [
    "#3\n",
    "dic4 = {}\n",
    "for val in range(1,11):\n",
    "    dic4[val] = val*val\n",
    "print(dic4)"
   ]
  },
  {
   "cell_type": "markdown",
   "metadata": {},
   "source": [
    "4. Write a Python program to sum all the items in dictionary."
   ]
  },
  {
   "cell_type": "code",
   "execution_count": null,
   "metadata": {},
   "outputs": [],
   "source": [
    "#4\n",
    "total = 0\n",
    "for key, value in dic4.items():\n",
    "    total += key\n",
    "    total += value\n",
    "print(total)"
   ]
  },
  {
   "cell_type": "markdown",
   "metadata": {},
   "source": [
    "5. Write a Python program to map two lists into a dictionary. Hint: here you can use an other very useful function: [zip()](https://realpython.com/python-zip-function/)."
   ]
  },
  {
   "cell_type": "code",
   "execution_count": null,
   "metadata": {},
   "outputs": [],
   "source": [
    "#5\n",
    "list1 = [1,3,5,7,9,11]\n",
    "list2 = [2,4,6,8,10,12]\n",
    "zipp = zip(list1, list2)\n",
    "print(dict(zipp))\n",
    "\n"
   ]
  }
 ],
 "metadata": {
  "interpreter": {
   "hash": "0e4771abb73651cc71498e03f3559c7e0f15f38d5124065b3832974a7bbffea7"
  },
  "kernelspec": {
   "display_name": "Python 3.8.5 64-bit ('nf_base': conda)",
   "name": "python3"
  },
  "language_info": {
   "codemirror_mode": {
    "name": "ipython",
    "version": 3
   },
   "file_extension": ".py",
   "mimetype": "text/x-python",
   "name": "python",
   "nbconvert_exporter": "python",
   "pygments_lexer": "ipython3",
   "version": "3.8.5"
  }
 },
 "nbformat": 4,
 "nbformat_minor": 4
}
