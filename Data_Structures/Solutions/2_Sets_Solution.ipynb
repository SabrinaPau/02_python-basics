{
 "cells": [
  {
   "cell_type": "markdown",
   "metadata": {},
   "source": [
    "# Sets"
   ]
  },
  {
   "cell_type": "markdown",
   "metadata": {},
   "source": [
    "## Check your understanding!\n",
    "\n",
    "**Part 1**\n",
    "\n",
    "1. Make a set called `first_set` with the values 1-10 and another with the values 5-15 called `second_set`.\n",
    "2. Add the value 11 to `first_set`.\n",
    "3. Add the string `'hello'` to `second_set`.\n",
    "4. Using one of the methods discussed above, find what elements `first_set` and `second_set` have in common.\n",
    "5. In one line of code, add all the elements of `second_set` to `first_set`."
   ]
  },
  {
   "cell_type": "code",
   "execution_count": null,
   "metadata": {},
   "outputs": [],
   "source": [
    "first_set = set([1,2,3,4,5,6,7,8,9,10])\n",
    "second_set = set([5,6,7,8,9,10,11,12,13,14,15])\n",
    "first_set.add(11)\n",
    "second_set.add('hello')\n",
    "first_set.intersection(second_set)\n",
    "first_set.union(second_set)"
   ]
  },
  {
   "cell_type": "markdown",
   "metadata": {},
   "source": [
    "**Part 2**\n",
    "\n",
    "Given the lists `first_list = ['hello', 'there', 'things', 'stuff', 'other', 'soda', 'chicken wings', 'things', 'soda']` and `'second_list = ['turkey sandwich', 'guacamole', 'chicken wings', 'OJ', 'soda']`:  \n",
    "1. Find the unique elements in `first_list` that are not contained in `second_list`.  \n",
    "2. In one line, find the common elements in the two lists.  \n",
    "3. Write a single line that outputs `True` or `False` depending on if the string `'pizza'` is in both lists."
   ]
  },
  {
   "cell_type": "code",
   "execution_count": null,
   "metadata": {},
   "outputs": [],
   "source": [
    "first_list = set(['hello', 'there', 'things', 'stuff', 'other', 'soda', 'chicken wings', 'things', 'soda'])\n",
    "second_list = set(['turkey sandwich', 'guacamole', 'chicken wings', 'OJ', 'soda'])\n",
    "first_list.difference(second_list)\n",
    "first_list.intersection(second_list)\n",
    "\"pizza\" in first_list.intersection(second_list)"
   ]
  }
 ],
 "metadata": {
  "kernelspec": {
   "display_name": "Python 3.9.13 ('nf_base')",
   "language": "python",
   "name": "python3"
  },
  "language_info": {
   "codemirror_mode": {
    "name": "ipython",
    "version": 3
   },
   "file_extension": ".py",
   "mimetype": "text/x-python",
   "name": "python",
   "nbconvert_exporter": "python",
   "pygments_lexer": "ipython3",
   "version": "3.9.13"
  },
  "vscode": {
   "interpreter": {
    "hash": "ab3d85a18739f6fff6a9c8c504adc2ff9340867b576dede986e2ee74c099e4e5"
   }
  }
 },
 "nbformat": 4,
 "nbformat_minor": 4
}
