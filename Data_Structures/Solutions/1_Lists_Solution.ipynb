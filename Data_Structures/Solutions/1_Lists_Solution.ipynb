{
 "cells": [
  {
   "cell_type": "markdown",
   "metadata": {},
   "source": [
    "# Lists"
   ]
  },
  {
   "cell_type": "markdown",
   "metadata": {},
   "source": [
    "## Check your understanding!\n",
    "\n",
    "**Part 1: Create Lists**\n",
    "\n",
    "1. Construct a list with 5 integers in it.\n",
    "2. Construct a list of 5 floats in it.\n",
    "3. Construct a list with only strings in it.\n",
    "4. Construct a list that contains at least one integer, one floating point number, and one string.\n",
    "5. Construct a list that contains a list of integers, a list of floating point numbers, and a list of strings?\n",
    "    * If you saved the lists from questions 1-3 into their own variables then you can do this in more than one way.\n",
    "    "
   ]
  },
  {
   "cell_type": "code",
   "execution_count": null,
   "metadata": {},
   "outputs": [],
   "source": [
    "list1 = [1,2,3,4,5]\n",
    "list2 = [0.1,0.2,0.3,0.4,0.5]\n",
    "list3 = ['this','is','a','long','string']\n",
    "list4 = [4, 0.829, 'hello']\n",
    "list5 = [list1,list2,list3]\n",
    "print(list5)"
   ]
  },
  {
   "cell_type": "markdown",
   "metadata": {},
   "source": [
    "**Part 2: List Operations**\n",
    "\n",
    "\n",
    "1. Construct a list of the even numbers from 0 to 10.\n",
    "2. Add (with a method) the number 12 to the previous list.\n",
    "3. Use a method on the list to put the numbers in descending order (12 down to 0).\n",
    "4. Call `.count(12)` on your list. Given what it returns and the name of the method itself, can you take a guess at what this method does?\n",
    "5. Add (with a method) the number 12 to the list again.\n",
    "6. Call `.count(12)` on your list again. Did you get the intended result?\n",
    "7. Use a method on the list to put the numbers in asscending order (from 0 to 12).\n",
    "8. Remove the last item from the list.\n",
    "9. How many items are now in your list? (you can check if your right with `len(my_list)`)"
   ]
  },
  {
   "cell_type": "code",
   "execution_count": null,
   "metadata": {},
   "outputs": [],
   "source": [
    "list6 = [0,2,4,6,8,10]\n",
    "list6.append(12)\n",
    "list6.reverse()\n",
    "list6.count(12)\n",
    "list6.append(12)\n",
    "list6.count(12)\n",
    "list6.sort()\n",
    "list6.remove(list6[-1])\n",
    "len(list6)"
   ]
  },
  {
   "cell_type": "markdown",
   "metadata": {},
   "source": [
    "**Part 3:List Indexing**\n",
    "\n",
    "Assume that we are working the list [3, 7, 12, 15, 22]. \n",
    "\n",
    "1. How would we index into the list to grab the number 7? What about the number 15?\n",
    "2. Using negative indexing, how would we index into the list to grab the number 12?\n",
    "3. How would I use interval indexing to grab 7 and 15 from the list?"
   ]
  },
  {
   "cell_type": "code",
   "execution_count": null,
   "metadata": {},
   "outputs": [],
   "source": [
    "list7 = [3,7,12,15,22]\n",
    "print(list7[1], list7[3], list7[-3], list7[1::2])"
   ]
  },
  {
   "cell_type": "markdown",
   "metadata": {},
   "source": [
    "**Part 4: List Iteration**\n",
    "\n",
    "Assume that we are working with the list [0, 1, 2, 3, 4, 5, 6, 7, 8, 9, 10]. \n",
    "\n",
    "1. Write a `for` loop to iterate over the list and print each number.\n",
    "2. Add a condition to that for loop which only prints a number if it is even. (**Hint**: use the `%` operator.)\n",
    "\n",
    "    a. Do not only print the even number but store them in the list `evens`.\n",
    "3. Can you modify the condition in question (2) so that the for loop only prints a number if it is odd?\n",
    "4. Now modify the `for` loop so that we print out the index of the elements along with the elements themselves."
   ]
  },
  {
   "cell_type": "code",
   "execution_count": null,
   "metadata": {},
   "outputs": [],
   "source": [
    "list8 = [1,2,3,4,5,6,7,8,9,10]\n",
    "evens = []\n",
    "for e in list8:\n",
    "    if e % 2 == 0: \n",
    "        evens.append(e)\n",
    "print(evens)\n"
   ]
  },
  {
   "cell_type": "code",
   "execution_count": null,
   "metadata": {},
   "outputs": [],
   "source": [
    "list8 = [1,2,3,4,5,6,7,8,9,10]\n",
    "odds = []\n",
    "for e in list8:\n",
    "    if e % 2 != 0: \n",
    "        odds.append(e)\n",
    "print(odds)\n"
   ]
  },
  {
   "cell_type": "code",
   "execution_count": null,
   "metadata": {},
   "outputs": [],
   "source": [
    "list8 = [1,2,3,4,5,6,7,8,9,10]\n",
    "for e in list8:\n",
    "    if e % 2 != 0: \n",
    "        print(list8.index(e), e)"
   ]
  },
  {
   "cell_type": "markdown",
   "metadata": {},
   "source": [
    "**Part 5: List Iteration 2**\n",
    "\n",
    "You have received a list with the personal data of new customers. For each customer, the first name, age and purchased product is stored in a list.  \n",
    "1. Use the correct indices to write the following sentence for customer 3:\n",
    "\"{first name} is {age} years old and has bought {product}\".\n",
    "\n",
    "2. Use a for loop to iterate through all customers and print \n",
    "\"{first name} is {age} years old and has bought {product}\".\n",
    "for each of them\n",
    "\n",
    "3. Iterate through all customers and print \"Customer number {index}: {first name} is {age} years old and has bought {product}\"."
   ]
  },
  {
   "cell_type": "markdown",
   "metadata": {},
   "source": [
    "\n",
    "<details><summary>\n",
    "Click here for a hint.\n",
    "    </summary>\n",
    "    1. With customers[0] you access the first nested list ['Paul', 33, 'Macbook Pro']. You can index each of those elements again.\n",
    "    Try out: customers[0][0]\n",
    "    \n",
    "2. With a for loop you iterate through each customer in \"customers\", now each personal data from the customer can be accessed with: customer[0] (is first name) etc.\n",
    "    \n",
    "3. For the index, you will need to iterate through enumerate(customers).\n",
    "</details>\n"
   ]
  },
  {
   "cell_type": "code",
   "execution_count": null,
   "metadata": {},
   "outputs": [],
   "source": [
    "# the customers list with the information of each customer stored in a list (nested list)\n",
    "customers = [['Paul', 33, 'Macbook Pro'],\n",
    "            ['Anna', 12, 'Looping Louie'],\n",
    "            ['Gina', 85, 'Photo Album'],\n",
    "            ['Kim', 59, 'Plants']]"
   ]
  },
  {
   "cell_type": "code",
   "execution_count": null,
   "metadata": {},
   "outputs": [],
   "source": [
    "#1 Use the correct indices to write the following sentence for customer 3: \"{first name} is {age} years old and has bought {product}.\"\n",
    "\n",
    "print(f'{customers[2][0]} is {customers[2][1]} years old and has bought {customers[2][2]}.')"
   ]
  },
  {
   "cell_type": "code",
   "execution_count": null,
   "metadata": {},
   "outputs": [],
   "source": [
    "#2 Use a for loop to iterate through all customers and print \"{first name} is {age} years old and has bought {product}.\" for each customer\n",
    "\n",
    "for customer in customers:\n",
    "    print((f'{customer[0]} is {customer[1]} years old and has bought {customer[2]}.'))"
   ]
  },
  {
   "cell_type": "code",
   "execution_count": null,
   "metadata": {},
   "outputs": [],
   "source": [
    "#3 Iterate through all customers and print \"Customer number {index}: {first name} is {age} years old and has bought {product}\".\n",
    "for idx, customer in enumerate(customers):\n",
    "    print(f'Customer number {idx+1}: {customer[0]} is {customer[1]} years old and has bought {customer[2]}.')"
   ]
  }
 ],
 "metadata": {
  "kernelspec": {
   "display_name": "Python 3.9.13 ('nf_base')",
   "language": "python",
   "name": "python3"
  },
  "language_info": {
   "codemirror_mode": {
    "name": "ipython",
    "version": 3
   },
   "file_extension": ".py",
   "mimetype": "text/x-python",
   "name": "python",
   "nbconvert_exporter": "python",
   "pygments_lexer": "ipython3",
   "version": "3.9.19"
  },
  "vscode": {
   "interpreter": {
    "hash": "ab3d85a18739f6fff6a9c8c504adc2ff9340867b576dede986e2ee74c099e4e5"
   }
  }
 },
 "nbformat": 4,
 "nbformat_minor": 4
}
