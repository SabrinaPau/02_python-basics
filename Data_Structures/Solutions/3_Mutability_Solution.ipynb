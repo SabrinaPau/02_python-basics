{
 "cells": [
  {
   "cell_type": "markdown",
   "source": [
    "# Mutability"
   ],
   "metadata": {}
  },
  {
   "cell_type": "markdown",
   "source": [
    "## Check your understanding!\n",
    "\n",
    "**Part 1: Mutability**\n",
    "\n",
    "Consider the list: `my_list = [1, 2, 3, 4, 5, 6, 7, 8, 9, 10]`. Each of the following questions is based on this exact list unless otherwise specified.\n",
    "\n",
    "1. What do you expect `my_list` to look like after running `my_list[4] = 200`?\n",
    "2. What do you expect `my_list` to look like after running `my_list.append(9)`?\n",
    "    1. On this new version of `my_list`, run `my_list.sort()`. What do you expect `my_list` to look like now? \n",
    "3. Take a look at the docs for the insert method [here](https://docs.python.org/3.8/tutorial/datastructures.html). What do you expect `my_list` to look like after `my_list.insert(0, 'hello')`? \n",
    "    1. On this new version of `my_list`, run `my_list.sort()`. What do you expect `my_list` to look like now? \n",
    "4. What do you expect `my_list` to look like after `my_list.reverse()`?\n",
    "5. Why can you change the data in `my_list` as you did in the above questions? Was a new list created when you ran `my_list.sort()`?\n",
    "6. Make sure that you tried out the code from the above examples. Did those operations return anything? Why or why not?\n"
   ],
   "metadata": {}
  },
  {
   "cell_type": "markdown",
   "source": [
    "1. the fifth element will be 200\n",
    "1. the last element will be 9; 2.1: there will now be two 9 and the 200 will be at the end\n",
    "1. the string 'hello' will be at the first position; 3.1: 'hello' at the beginning and the numbers sorted - the list cannot be sorted since a string and the integers cannot be compared to one another \n",
    "1. all elements in reverse order\n",
    "1. I can change the data because a list is mutable - it can be changed after creation\n",
    "1. The operations did return what they were supposed to do, but after inserting the string 'hello' into the list, it couldn't be sorted anymore"
   ],
   "metadata": {}
  },
  {
   "cell_type": "markdown",
   "source": [
    "**Part 2: Tuples**\n",
    "\n",
    "1. Make a tuple called `my_tuple` with the values `1` and `\"hello\"` in it. \n",
    "    1. How do you access the `1` in `my_tuple`?\n",
    "    2. How do you access the `\"hello\"` in `my_tuple`?\n",
    "2. Can you change the `\"hello\"` entry in `my_tuple` to `\"hello there\"`? Why or why not?\n",
    "3. Make a tuple called `other_tuple` with the values `\"other\"` and an empty list in it.\n",
    "    1. Add the word `\"there\"` to the list in the tuple. Why can you do this?\n",
    "    2. Add the word `\"hello\"` to the list in the tuple as the first element in the list."
   ],
   "metadata": {}
  },
  {
   "cell_type": "code",
   "execution_count": null,
   "source": [
    "my_tuple = 1,\"hello\"\n",
    "print(my_tuple[0], my_tuple[1])\n",
    "# I will not be able to change the 'hello' entry because a tuple is immutable\n",
    "other_tuple = [\"other\",[]]\n",
    "other_tuple[1].append(\"there\")\n",
    "other_tuple[1].insert(0,\"hello\")\n",
    "print(other_tuple)"
   ],
   "outputs": [],
   "metadata": {}
  }
 ],
 "metadata": {
  "kernelspec": {
   "name": "python3",
   "display_name": "Python 3.8.3 64-bit ('base': conda)"
  },
  "language_info": {
   "codemirror_mode": {
    "name": "ipython",
    "version": 3
   },
   "file_extension": ".py",
   "mimetype": "text/x-python",
   "name": "python",
   "nbconvert_exporter": "python",
   "pygments_lexer": "ipython3",
   "version": "3.8.3"
  },
  "interpreter": {
   "hash": "7f431737fad36bc73747254a1fbc87e013b533e81a585a67520a99b40246ed61"
  }
 },
 "nbformat": 4,
 "nbformat_minor": 4
}