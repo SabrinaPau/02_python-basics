{
 "cells": [
  {
   "cell_type": "markdown",
   "metadata": {},
   "source": [
    "# Variable Types and Numeric Operators\n",
    "\n",
    "Welcome back to the first Python notebook you will go through during the bootcamp. The following notebooks aim at refreshing your Python knowledge. For those of you who have worked with Python before and are comfortable with programming, it might be easy. For some, it may only be the second time they've heard of most of the topics and some of the exercises might already be challenging. That's fine! No one becomes a true Pythonista overnight. To become good at programming, you need one thing above all: **practice**! And that's why today we will start by reviewing the basics. \n",
    "\n",
    "But enough said, let's start by strengthening your Python knowledge! "
   ]
  },
  {
   "cell_type": "markdown",
   "metadata": {},
   "source": [
    "## Objectives\n",
    "\n",
    "In this notebook we will refresh our knowledge about:\n",
    "\n",
    "- how to do simple math with Python\n",
    "- different data types\n",
    "- variables "
   ]
  },
  {
   "cell_type": "markdown",
   "metadata": {},
   "source": [
    "## Numeric Operations\n",
    "\n",
    "At its base level, Python is really just an awesome calculator!\n",
    "\n",
    "All of the operations that you think should be available are available. Addition, subtraction, multiplication, division and exponentiation are all accessible via `+` , `-` , `*` , `/` and `**` , respectively. As in maths, you can also change the order of the operations using parenthesis `()`. "
   ]
  },
  {
   "cell_type": "code",
   "execution_count": null,
   "metadata": {
    "ExecuteTime": {
     "end_time": "2020-06-30T11:34:51.429214Z",
     "start_time": "2020-06-30T11:34:51.418682Z"
    }
   },
   "outputs": [],
   "source": [
    "32 + 23"
   ]
  },
  {
   "cell_type": "code",
   "execution_count": null,
   "metadata": {
    "ExecuteTime": {
     "end_time": "2020-06-30T11:34:51.456179Z",
     "start_time": "2020-06-30T11:34:51.436541Z"
    }
   },
   "outputs": [],
   "source": [
    "19 - 21"
   ]
  },
  {
   "cell_type": "code",
   "execution_count": null,
   "metadata": {
    "ExecuteTime": {
     "end_time": "2020-06-30T11:34:51.503183Z",
     "start_time": "2020-06-30T11:34:51.463300Z"
    }
   },
   "outputs": [],
   "source": [
    "11 * 11"
   ]
  },
  {
   "cell_type": "code",
   "execution_count": null,
   "metadata": {
    "ExecuteTime": {
     "end_time": "2020-06-30T11:34:51.554866Z",
     "start_time": "2020-06-30T11:34:51.510152Z"
    }
   },
   "outputs": [],
   "source": [
    "12 / 32"
   ]
  },
  {
   "cell_type": "code",
   "execution_count": null,
   "metadata": {
    "ExecuteTime": {
     "end_time": "2020-06-30T11:34:51.565917Z",
     "start_time": "2020-06-30T11:34:51.558759Z"
    }
   },
   "outputs": [],
   "source": [
    "3 ** 2"
   ]
  },
  {
   "cell_type": "code",
   "execution_count": null,
   "metadata": {},
   "outputs": [],
   "source": [
    "4 + 6 * 5"
   ]
  },
  {
   "cell_type": "code",
   "execution_count": null,
   "metadata": {},
   "outputs": [],
   "source": [
    "(4 + 6) * 5"
   ]
  },
  {
   "cell_type": "markdown",
   "metadata": {},
   "source": [
    "\n",
    "But Python has even more to offer. Besides those simple operators you can also find on any calculator, Python has two more arithmetic operators which might be new to you: `//` and `%`.\n",
    "\n",
    "The double slash `//` is called floor division. All it does is perform division and truncate the result."
   ]
  },
  {
   "cell_type": "code",
   "execution_count": null,
   "metadata": {},
   "outputs": [],
   "source": [
    "# Floor division \n",
    "34 // 4"
   ]
  },
  {
   "cell_type": "markdown",
   "metadata": {},
   "source": [
    "The other operator is the modular division operator, `%` (also called modulo). This operation is the sibling to `//`. Whereas `//` returns the truncated result of a division, `%` returns the remainder of integer division."
   ]
  },
  {
   "cell_type": "code",
   "execution_count": null,
   "metadata": {},
   "outputs": [],
   "source": [
    "# Modulo\n",
    "34 % 4"
   ]
  },
  {
   "cell_type": "markdown",
   "metadata": {},
   "source": [
    "During your daily work as a Data Analyst you will need a variety of different mathematical operations. For some of them you can use built-in functions. \n",
    "\n",
    "`abs()`, `min()`, `max()` and `round()` are helpful little functions to know when you start working with data. As their names already imply `abs()` will return the absolut value of a number, `min()` and `max()` will return the minimum respectively maximum of a bunch of numbers and `round()` will round a number to a given amount of decimals."
   ]
  },
  {
   "cell_type": "code",
   "execution_count": null,
   "metadata": {},
   "outputs": [],
   "source": [
    "abs(2.14)"
   ]
  },
  {
   "cell_type": "code",
   "execution_count": null,
   "metadata": {},
   "outputs": [],
   "source": [
    "abs(-2.14)"
   ]
  },
  {
   "cell_type": "code",
   "execution_count": null,
   "metadata": {},
   "outputs": [],
   "source": [
    "min(14, 21, 32, 11, 44, 23)"
   ]
  },
  {
   "cell_type": "code",
   "execution_count": null,
   "metadata": {},
   "outputs": [],
   "source": [
    "max(14, 21, 32, 11, 44, 23)"
   ]
  },
  {
   "cell_type": "code",
   "execution_count": null,
   "metadata": {},
   "outputs": [],
   "source": [
    "round(3.14159265359, 3)"
   ]
  },
  {
   "cell_type": "markdown",
   "metadata": {},
   "source": [
    "## Variables\n",
    "\n",
    "One of the most powerful constructs in programming is the ability to store arbitrary values in what we call variables. You can think of variable assignment as giving a name to something so that it can be accessed later by different parts of your program.\n",
    "\n",
    "As you may remember, variable assignment in Python occurs with the `=` operator. To assign a value to a variable name (i.e. declare it), you simply put the variable name on the left side of the `=` and the value you want to associate with that variable name on the right side. Once this has happened, you can access the value in the variable by using it's name somewhere later in your code or notebook."
   ]
  },
  {
   "cell_type": "code",
   "execution_count": null,
   "metadata": {
    "ExecuteTime": {
     "end_time": "2020-06-30T11:34:51.694614Z",
     "start_time": "2020-06-30T11:34:51.686456Z"
    }
   },
   "outputs": [],
   "source": [
    "a = 8\n",
    "b = \"Hello\""
   ]
  },
  {
   "cell_type": "code",
   "execution_count": null,
   "metadata": {
    "ExecuteTime": {
     "end_time": "2020-06-30T11:34:51.711513Z",
     "start_time": "2020-06-30T11:34:51.703416Z"
    }
   },
   "outputs": [],
   "source": [
    "b"
   ]
  },
  {
   "cell_type": "code",
   "execution_count": null,
   "metadata": {
    "ExecuteTime": {
     "end_time": "2020-06-30T11:34:51.723777Z",
     "start_time": "2020-06-30T11:34:51.714309Z"
    }
   },
   "outputs": [],
   "source": [
    "a - 4"
   ]
  },
  {
   "cell_type": "code",
   "execution_count": null,
   "metadata": {
    "ExecuteTime": {
     "end_time": "2020-06-30T11:34:51.736043Z",
     "start_time": "2020-06-30T11:34:51.726241Z"
    }
   },
   "outputs": [],
   "source": [
    "a * b"
   ]
  },
  {
   "cell_type": "markdown",
   "metadata": {},
   "source": [
    "The name you can give a variable can technically be any contiguous set of characters, but there are some conventions followed in Python and programming in general. Python follows a variable naming convention called snake case, which uses underscores `_` instead of spaces and only lower case letters (e.g. `my_first_variable`). Although `my_first_variable` would be in snake_case it is not a good variable name. In order to make your code more readable and maintainable you should always give your variables well-defined, succinct names. Calling something `height` is a lot more meaningful than only calling it `x`. \n",
    "\n",
    "There are of course cases where using less than descriptive variable names follows convention and are, therefore, just fine to use. A common example is the use of `i` to keep track of an index. Because of its prevalent usage for indexing, it is usually easy to understand what is happening in that context when all you see is the variable name `i`.\n",
    "\n",
    "In the cells above `a = 8` or `b = \"Hello\"` did not generate an output. This is because the return value that would have been printed as output was assigned to the variables `a` and `b`. To view the content of the variables we had to call them in the next lines.\n",
    "\n",
    "A large part of variables' power is the fact that they can change. This allows us to use a single variable name to keep track of a specific thing throughout the life of a program. \n",
    "Remember how we assigned the value `8` to `a` above? The exact same syntax can be used to change the value stored in the variable.\n",
    "Let's say we want to increase the value of a by 5:"
   ]
  },
  {
   "cell_type": "code",
   "execution_count": null,
   "metadata": {
    "ExecuteTime": {
     "end_time": "2020-06-30T11:34:51.753269Z",
     "start_time": "2020-06-30T11:34:51.738671Z"
    }
   },
   "outputs": [],
   "source": [
    "a = a + 5\n",
    "a"
   ]
  },
  {
   "cell_type": "markdown",
   "metadata": {},
   "source": [
    "Notice how the first line above is formatted. Python knows that the `=` means variable assignment, so when it sees the first line it evaluates the right side of the equals and then puts that value in `a`, even though `a` is part of the calculation on the right side. `a` is now connected with this new value and the old value is gone.\n",
    "\n",
    "Changing variables in this way occurs so commonly that there is built-in shorthand for it. The result of the first line could have been achieved with `a += 5`. This *syntactic sugar* is available for all the simple operations `+`, `-`, `*`, `/`, `**`, and `%` that we covered earlier."
   ]
  },
  {
   "cell_type": "code",
   "execution_count": null,
   "metadata": {},
   "outputs": [],
   "source": [
    "a = 25\n",
    "a //= 3\n",
    "a"
   ]
  },
  {
   "cell_type": "markdown",
   "metadata": {},
   "source": [
    "## Types\n",
    "\n",
    "Data type is an important concept in programming. Variables can store data in different types and different types can do different things.\n",
    "\n",
    "Do you remember the adage: \"If it walks like a duck, and quacks like a duck, then it must be a duck\". Python is a duck typed language, which means that Python will determine what it thinks is the best type to call a variable when you use it, unless explicitly told otherwise."
   ]
  },
  {
   "cell_type": "markdown",
   "metadata": {},
   "source": [
    "### Numeric Variable Types\n",
    "\n",
    "Let's review some basic numeric variable types in Python, which all represent numbers in some way.\n",
    "The most important ones are `ints`, short for integers, `floats`, short for floating point/decimal numbers, and `complex`, which contain real and imaginary parts stored as floats.\n",
    "\n",
    "To inspect what type Python thinks a variable (or number...) is, you can use the `type()` function. This will be especially useful when you run into an error and will have to debug your code. "
   ]
  },
  {
   "cell_type": "code",
   "execution_count": null,
   "metadata": {
    "ExecuteTime": {
     "end_time": "2020-06-30T11:34:51.223748Z",
     "start_time": "2020-06-30T11:34:51.176601Z"
    },
    "scrolled": true
   },
   "outputs": [],
   "source": [
    "14 # Int"
   ]
  },
  {
   "cell_type": "code",
   "execution_count": null,
   "metadata": {
    "ExecuteTime": {
     "end_time": "2020-06-30T11:34:51.302631Z",
     "start_time": "2020-06-30T11:34:51.281655Z"
    },
    "scrolled": true
   },
   "outputs": [],
   "source": [
    "32.2 # Float"
   ]
  },
  {
   "cell_type": "code",
   "execution_count": null,
   "metadata": {
    "ExecuteTime": {
     "end_time": "2020-06-30T11:34:51.353655Z",
     "start_time": "2020-06-30T11:34:51.313466Z"
    }
   },
   "outputs": [],
   "source": [
    "complex(5, 6) # complex"
   ]
  },
  {
   "cell_type": "code",
   "execution_count": null,
   "metadata": {
    "ExecuteTime": {
     "end_time": "2020-06-30T11:34:51.379983Z",
     "start_time": "2020-06-30T11:34:51.361564Z"
    }
   },
   "outputs": [],
   "source": [
    "type(14)"
   ]
  },
  {
   "cell_type": "code",
   "execution_count": null,
   "metadata": {
    "ExecuteTime": {
     "end_time": "2020-06-30T11:34:51.396272Z",
     "start_time": "2020-06-30T11:34:51.385142Z"
    }
   },
   "outputs": [],
   "source": [
    "type(82.6)"
   ]
  },
  {
   "cell_type": "code",
   "execution_count": null,
   "metadata": {
    "ExecuteTime": {
     "end_time": "2020-06-30T11:34:51.410079Z",
     "start_time": "2020-06-30T11:34:51.399690Z"
    }
   },
   "outputs": [],
   "source": [
    "type(complex(5, 6))"
   ]
  },
  {
   "cell_type": "markdown",
   "metadata": {},
   "source": [
    "As you can see, Python assumes that a number with no decimal point is an `int`, those with a decimal point a `float`, and (surprise!) those from the `complex()` constructor as `complex`.\n",
    "\n",
    "Frequently, these subtle differences wont matter too much. However, there will be times when this implementation detail will make you think that something will work, when really it won't. Knowing how to check the type of something will help you solve any of these potential problems."
   ]
  },
  {
   "cell_type": "markdown",
   "metadata": {},
   "source": [
    "### String\n",
    "\n",
    "We have mentioned strings (`str` for short) only very briefly in the preparation notebooks and will not go into it here.\n",
    "Since string manipulation and formatting is a big topic, we will devote a whole notebook to it. "
   ]
  },
  {
   "cell_type": "markdown",
   "metadata": {},
   "source": [
    "### Bool\n",
    "\n",
    "Python has a special data type called `bool`, which can only have two values: `True` or `False`.\n",
    "We will refresh our knowledge of boolean values when we come to the if-then statements."
   ]
  },
  {
   "cell_type": "markdown",
   "metadata": {},
   "source": [
    "### Further Data Types\n",
    "\n",
    "There are several other built-in data types in Python. We will cover `lists`, `dictionaries`, `sets`, `tuples` and `range` in later notebooks more in detail. "
   ]
  },
  {
   "cell_type": "markdown",
   "metadata": {},
   "source": [
    "## Check your understanding! "
   ]
  },
  {
   "cell_type": "markdown",
   "metadata": {},
   "source": [
    "**Part 1**\n",
    "\n",
    "What do you think the results of the following computations will be?\n",
    "1. `19.0 - 11`\n",
    "2. `12 * 0.25`\n",
    "3. `12 ** 2`\n",
    "4. `25 // 6`\n",
    "5. `(12 + 8) / 7`\n",
    "6. `(21 / 3) % 2`"
   ]
  },
  {
   "cell_type": "code",
   "execution_count": null,
   "metadata": {},
   "outputs": [],
   "source": [
    "19.0 - 11"
   ]
  },
  {
   "cell_type": "markdown",
   "metadata": {},
   "source": [
    "**Part 2**\n",
    "\n",
    "Consider the following code:\n",
    "\n",
    "```\n",
    "x = 82\n",
    "y = 30\n",
    "x += y\n",
    "y = x - 3\n",
    "x -= y - 5\n",
    "```\n",
    "\n",
    "What are the values of x and y after each line?"
   ]
  },
  {
   "cell_type": "markdown",
   "metadata": {},
   "source": [
    "**Part 3**\n",
    "\n",
    "What are the types of the following numerics?\n",
    "1. `10`\n",
    "2. `100.32`\n",
    "3. `complex(-5, -10.2)`"
   ]
  },
  {
   "cell_type": "markdown",
   "metadata": {},
   "source": [
    "**Part 4**\n",
    "\n",
    "Person1 is 21 years old, Person2 is 43 years old and Person3 is 19 years old. Define variables for the ages, calculate the mean with them and save the resulte in another variable. Check which type the result has. Can you round the result to 2 decimals?"
   ]
  },
  {
   "cell_type": "code",
   "execution_count": null,
   "metadata": {},
   "outputs": [],
   "source": [
    "p_1 = 21\n",
    "p_2 = 43\n",
    "p_3 = 19\n",
    "\n",
    "mean_age = (p_1 + p_2 + p_3) / 3\n",
    "mean_age"
   ]
  },
  {
   "cell_type": "code",
   "execution_count": null,
   "metadata": {},
   "outputs": [],
   "source": [
    "type(mean_age)"
   ]
  },
  {
   "cell_type": "code",
   "execution_count": null,
   "metadata": {},
   "outputs": [],
   "source": [
    "round(mean_age, 2)"
   ]
  }
 ],
 "metadata": {
  "interpreter": {
   "hash": "0e4771abb73651cc71498e03f3559c7e0f15f38d5124065b3832974a7bbffea7"
  },
  "kernelspec": {
   "display_name": "Python 3.8.5 64-bit ('nf_base': conda)",
   "name": "python3"
  },
  "language_info": {
   "codemirror_mode": {
    "name": "ipython",
    "version": 3
   },
   "file_extension": ".py",
   "mimetype": "text/x-python",
   "name": "python",
   "nbconvert_exporter": "python",
   "pygments_lexer": "ipython3",
   "version": "3.12.3"
  },
  "toc": {
   "base_numbering": 1,
   "nav_menu": {},
   "number_sections": true,
   "sideBar": true,
   "skip_h1_title": false,
   "title_cell": "Table of Contents",
   "title_sidebar": "Contents",
   "toc_cell": false,
   "toc_position": {},
   "toc_section_display": true,
   "toc_window_display": false
  },
  "varInspector": {
   "cols": {
    "lenName": 16,
    "lenType": 16,
    "lenVar": 40
   },
   "kernels_config": {
    "python": {
     "delete_cmd_postfix": "",
     "delete_cmd_prefix": "del ",
     "library": "var_list.py",
     "varRefreshCmd": "print(var_dic_list())"
    },
    "r": {
     "delete_cmd_postfix": ") ",
     "delete_cmd_prefix": "rm(",
     "library": "var_list.r",
     "varRefreshCmd": "cat(var_dic_list()) "
    }
   },
   "types_to_exclude": [
    "module",
    "function",
    "builtin_function_or_method",
    "instance",
    "_Feature"
   ],
   "window_display": false
  }
 },
 "nbformat": 4,
 "nbformat_minor": 4
}
