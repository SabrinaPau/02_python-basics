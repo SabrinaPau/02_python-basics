{
 "cells": [
  {
   "cell_type": "markdown",
   "source": [
    "# Variable Types and Numeric Operators"
   ],
   "metadata": {}
  },
  {
   "cell_type": "markdown",
   "source": [
    "## Check your understanding! "
   ],
   "metadata": {}
  },
  {
   "cell_type": "markdown",
   "source": [
    "**Part 1**\n",
    "\n",
    "What do you think the results of the following computations will be?\n",
    "1. `19.0 - 11`\n",
    "2. `12 * 0.25`\n",
    "3. `12 ** 2`\n",
    "4. `25 // 6`\n",
    "5. `(12 + 8) / 7`\n",
    "6. `(21 / 3) % 2`"
   ],
   "metadata": {}
  },
  {
   "cell_type": "markdown",
   "source": [
    "## Solution\n",
    "1. 8.0 \n",
    "1. 3.0\n",
    "1. 144\n",
    "1. 4\n",
    "1. 2.857142857142857\n",
    "1. 1.0"
   ],
   "metadata": {}
  },
  {
   "cell_type": "markdown",
   "source": [
    "**Part 2**\n",
    "\n",
    "Consider the following code:\n",
    "\n",
    "```\n",
    "x = 82\n",
    "y = 30\n",
    "x += y\n",
    "y = x - 3\n",
    "x -= y - 5\n",
    "```\n",
    "\n",
    "What are the values of x and y after each line?"
   ],
   "metadata": {}
  },
  {
   "cell_type": "markdown",
   "source": [
    "## Solution\n",
    "third line: x=112, y=30  \n",
    "fourth line: x=112, y=109  \n",
    "fifth line: x= 8, y=109"
   ],
   "metadata": {}
  },
  {
   "cell_type": "markdown",
   "source": [
    "**Part 3**\n",
    "\n",
    "What are the types of the following numerics?\n",
    "1. `10`\n",
    "2. `100.32`\n",
    "3. `complex(-5, -10.2)`"
   ],
   "metadata": {}
  },
  {
   "cell_type": "markdown",
   "source": [
    "## Solution\n",
    "1. integer\n",
    "1. float\n",
    "1. complex"
   ],
   "metadata": {}
  },
  {
   "cell_type": "markdown",
   "source": [
    "**Part 4**\n",
    "\n",
    "Person1 is 21 years old, Person2 is 43 years old and Person3 is 19 years old. Define variables for the ages, calculate the mean with them and save the resulte in another variable. Check which type the result has. Can you round the result to 2 decimals?"
   ],
   "metadata": {}
  },
  {
   "cell_type": "code",
   "execution_count": 23,
   "source": [
    "#Solution\n",
    "P1 = 21\n",
    "P2 = 43\n",
    "P3 = 19\n",
    "mean = (P1 + P2 + P3)/3\n",
    "type(mean)\n",
    "print(mean)\n",
    "round(mean,2)"
   ],
   "outputs": [
    {
     "output_type": "stream",
     "name": "stdout",
     "text": [
      "27.666666666666668\n"
     ]
    },
    {
     "output_type": "execute_result",
     "data": {
      "text/plain": [
       "27.67"
      ]
     },
     "metadata": {},
     "execution_count": 23
    }
   ],
   "metadata": {}
  }
 ],
 "metadata": {
  "interpreter": {
   "hash": "7f431737fad36bc73747254a1fbc87e013b533e81a585a67520a99b40246ed61"
  },
  "kernelspec": {
   "name": "python3",
   "display_name": "Python 3.8.3 64-bit ('base': conda)"
  },
  "language_info": {
   "name": "python",
   "version": "3.8.3"
  },
  "toc": {
   "base_numbering": 1,
   "nav_menu": {},
   "number_sections": true,
   "sideBar": true,
   "skip_h1_title": false,
   "title_cell": "Table of Contents",
   "title_sidebar": "Contents",
   "toc_cell": false,
   "toc_position": {},
   "toc_section_display": true,
   "toc_window_display": false
  },
  "varInspector": {
   "cols": {
    "lenName": 16,
    "lenType": 16,
    "lenVar": 40
   },
   "kernels_config": {
    "python": {
     "delete_cmd_postfix": "",
     "delete_cmd_prefix": "del ",
     "library": "var_list.py",
     "varRefreshCmd": "print(var_dic_list())"
    },
    "r": {
     "delete_cmd_postfix": ") ",
     "delete_cmd_prefix": "rm(",
     "library": "var_list.r",
     "varRefreshCmd": "cat(var_dic_list()) "
    }
   },
   "types_to_exclude": [
    "module",
    "function",
    "builtin_function_or_method",
    "instance",
    "_Feature"
   ],
   "window_display": false
  }
 },
 "nbformat": 4,
 "nbformat_minor": 4
}