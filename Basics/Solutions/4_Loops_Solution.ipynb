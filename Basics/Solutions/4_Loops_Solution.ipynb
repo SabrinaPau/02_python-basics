{
 "cells": [
  {
   "cell_type": "markdown",
   "metadata": {},
   "source": [
    "# Looping"
   ]
  },
  {
   "cell_type": "markdown",
   "metadata": {},
   "source": [
    "## Check your understanding\n",
    "\n",
    "**While Loop**\n",
    "\n",
    "Write a while loop so that the value printed out in total is:  \n",
    "1. The sum of the numbers 1 through 9,  \n",
    "2. The sum of the numbers 2 through 9,  \n",
    "3. The sum of every other number starting with 3 ending with 13 (**hint**: you'll need to increment `x` differently),\n",
    "\n",
    "after the loop is executed.\n",
    "                                                                 \n",
    "**Infinte Loop Question**\n",
    "\n",
    "The following cell has code containing an infinte loop in it. Change it so that when run, it will stop. \n",
    "If you try something and nothing is printed, then an infinite loop is probably still there. \n",
    "To stop the notebook from calculating on forever, navigate to the top bar, click on the *Kernel* tab, and click on *Interrupt*. \n",
    "This forcibly stops Python from executing.                                                            \n",
    "                                                                 "
   ]
  },
  {
   "cell_type": "code",
   "execution_count": null,
   "metadata": {},
   "outputs": [],
   "source": [
    "#1\n",
    "# First, we initialise our variables (total, x) is initiated with (0, 1) values respectively.\n",
    "# This is equivalent but shorter to use two lines: total = 0 and x = 1\n",
    "total, x = 0, 1\n",
    "while x <= 9:\n",
    "    total += x\n",
    "    x += 1  # At each iteration, we increase the value of x by 1 \n",
    "            # and continue the while loop until the condition is not met anymore i.e. x > 9\n",
    "print(total)"
   ]
  },
  {
   "cell_type": "code",
   "execution_count": null,
   "metadata": {},
   "outputs": [],
   "source": [
    "#2\n",
    "total, x = 0, 2\n",
    "while x <= 9: \n",
    "    total += x\n",
    "    x += 1\n",
    "print(total)"
   ]
  },
  {
   "cell_type": "code",
   "execution_count": null,
   "metadata": {},
   "outputs": [],
   "source": [
    "#3\n",
    "total, x = 0, 3\n",
    "while x <= 13: \n",
    "    total += x\n",
    "    x += 2\n",
    "print(total)"
   ]
  },
  {
   "cell_type": "markdown",
   "metadata": {},
   "source": [
    "**For Loop**\n",
    "\n",
    "Write a for loop so that the value printed out in total is:  \n",
    "1. The sum of the numbers 1 through 9,  \n",
    "2. The sum of the numbers 2 through 9,  \n",
    "3. The sum of every other number starting with 3 ending with 13 (**hint**: you'll need to increment `x` differently),  \n",
    "4. You have a list with all continents (continents = [\"Afrika\", \"Antarktis\", \"Asien\", \"Australien und Ozeanien\", \"Europa\", \"Nordamerika\", \"Südamerika\"]). Can you print only the continents from the southern hemisphere?"
   ]
  },
  {
   "cell_type": "code",
   "execution_count": null,
   "metadata": {},
   "outputs": [],
   "source": [
    "#1\n",
    "total = 0\n",
    "for i in range(1,10): # please note that range excludes the end value i.e. we type 10 when we stop at 9\n",
    "    total += i\n",
    "    print(i, total)\n",
    "print(total)\n"
   ]
  },
  {
   "cell_type": "code",
   "execution_count": null,
   "metadata": {},
   "outputs": [],
   "source": [
    "#2\n",
    "total = 0\n",
    "for i in range(2,10):\n",
    "    total += i\n",
    "    print(i, total)\n",
    "print(total)"
   ]
  },
  {
   "cell_type": "code",
   "execution_count": null,
   "metadata": {},
   "outputs": [],
   "source": [
    "#3\n",
    "total, x = 0, 3\n",
    "for i in range(3,14, 2):\n",
    "    total += i\n",
    "    print(i, total)\n",
    "print(total)\n"
   ]
  },
  {
   "cell_type": "code",
   "execution_count": null,
   "metadata": {},
   "outputs": [],
   "source": [
    "#4\n",
    "# I want to print only Afrika, Antarktis, Südamerika, Australien\n",
    "continents = [\"Afrika\", \"Antarktis\", \"Asien\", \"Australien und Ozeanien\", \"Europa\", \"Nordamerika\", \"Südamerika\"]\n",
    "southern = [\"Afrika\",\"Antarktis\",\"Südamerika\",\"Australien und Ozeanien\"]\n",
    "for x in continents : \n",
    "    if x in southern: \n",
    "        print(x)\n",
    "\n",
    "# Another solution using the indexes - here the order of the elements in the list matters:\n",
    "for x in [continents[i] for i in [0, 1, 3, 6]]: # this is a loop inside a list, it's pretty handy!\n",
    "    print(x)"
   ]
  },
  {
   "cell_type": "markdown",
   "metadata": {},
   "source": [
    "**Continue Questions**\n",
    "\n",
    "1. Write a while loop so that total has the sum of the numbers 10 through 30, without 15 nor 25. Make sure you do this without subtracting those numbers off at the end. Things to ask yourself to help answer this question:\n",
    "    \n",
    "    1. Where, in the loop, does it decide if it should skip a number to be added? \n",
    "    2. Can you do `2` things in a single `if` statement?\n",
    "    "
   ]
  },
  {
   "cell_type": "code",
   "execution_count": null,
   "metadata": {},
   "outputs": [],
   "source": [
    "#1\n",
    "total, x = 0, 10\n",
    "while x <= 30:\n",
    "    if x == 15 or x == 25:\n",
    "        x+=1\n",
    "        continue\n",
    "    else:\n",
    "        total += x\n",
    "        print(x,total)\n",
    "        x += 1"
   ]
  },
  {
   "cell_type": "markdown",
   "metadata": {},
   "source": [
    "**Break Questions**\n",
    "\n",
    "1. To make the break-method more vivid change the code from the break introduction-section above so that the while-loop breaks after a total of 15.\n",
    "2. Take the code above and change it so that the value of `x` that makes total greater than 25 is printed as well.\n",
    "3. Write a loop that adds the numbers 1 through 50. At some point the total value will be greater than 100. Have the loop print the number that makes the total greater than 100 and print the message \"The sum exceeded the max value of 100.\""
   ]
  },
  {
   "cell_type": "code",
   "execution_count": null,
   "metadata": {},
   "outputs": [],
   "source": [
    "#1\n",
    "total, x = 0, 1\n",
    "loop_counter = 1\n",
    "while x <= 8:\n",
    "    if total >= 15:\n",
    "        print(f'At Loop # {loop_counter} the while-loop was terminated.')\n",
    "        break\n",
    "    else:\n",
    "        total += x\n",
    "        print(f'Loop #: {loop_counter}, x: {x} and Total: {total}')\n",
    "        x += 1\n",
    "    loop_counter += 1"
   ]
  },
  {
   "cell_type": "code",
   "execution_count": null,
   "metadata": {},
   "outputs": [],
   "source": [
    "#2\n",
    "total, x = 0, 1\n",
    "loop_counter = 1\n",
    "while x <= 8:\n",
    "    if total > 25:\n",
    "        print(f'Value {x-1} brings total over 25')\n",
    "        break\n",
    "    else:\n",
    "        total += x\n",
    "        print(f'Loop #: {loop_counter}, x: {x} and Total: {total}')\n",
    "        x += 1\n",
    "    loop_counter += 1"
   ]
  },
  {
   "cell_type": "code",
   "execution_count": null,
   "metadata": {},
   "outputs": [],
   "source": [
    "#3\n",
    "total, x = 0,1\n",
    "while x <= 50:\n",
    "    if total > 100:\n",
    "        break\n",
    "    else:\n",
    "        total += x\n",
    "        x += 1\n",
    "print(x-1, \"The sum exceeded the max value of 100\" )"
   ]
  },
  {
   "cell_type": "markdown",
   "metadata": {},
   "source": [
    "**A little challenge**\n",
    "\n",
    "You work from Monday to Friday from 9 to 5. Every day your lunch break is at 12 o'clock. So you want to write code that prints the day of the week and the time. Except for 12 o'clock where the code should print 'Lunch break!!!' and it should skip saturday and sunday.\n",
    "days = \\['monday', 'tuesday', 'wednesday', 'thursday', 'friday', 'saturday', 'sunday']\n",
    "\n",
    "It should look similar to: \n",
    "It's monday and 9 o'clock <br>\n",
    "It's monday and 10 o'clock <br>\n",
    "It's monday and 11 o'clock <br>\n",
    "Lunch Break!!! <br>\n",
    "It's monday and 13 o'clock <br>\n",
    "It's monday and 14 o'clock <br>\n",
    "It's monday and 15 o'clock <br>\n",
    "It's monday and 16 o'clock <br>\n",
    "It's monday and 17 o'clock"
   ]
  },
  {
   "cell_type": "code",
   "execution_count": null,
   "metadata": {},
   "outputs": [],
   "source": [
    "#students could just emit the last two days from the list\n",
    "days = ['monday', 'tuesday', 'wednesday', 'thursday', 'friday', 'saturday', 'sunday']\n",
    "hours = [10,11,12,13,14,15,16,17]\n",
    "for d in days[0:5]:\n",
    "    for h in hours: \n",
    "        if h != 12: \n",
    "            print(\"It's \" + d + \" and \" + str(h) + \" o'clock\")\n",
    "        else: \n",
    "            print(\"Lunch Break!!\")\n",
    "        \n",
    "\n",
    "        "
   ]
  },
  {
   "cell_type": "code",
   "execution_count": null,
   "metadata": {},
   "outputs": [],
   "source": []
  }
 ],
 "metadata": {
  "interpreter": {
   "hash": "0e4771abb73651cc71498e03f3559c7e0f15f38d5124065b3832974a7bbffea7"
  },
  "kernelspec": {
   "display_name": "Python 3 (ipykernel)",
   "language": "python",
   "name": "python3"
  },
  "language_info": {
   "codemirror_mode": {
    "name": "ipython",
    "version": 3
   },
   "file_extension": ".py",
   "mimetype": "text/x-python",
   "name": "python",
   "nbconvert_exporter": "python",
   "pygments_lexer": "ipython3",
   "version": "3.8.13"
  },
  "toc": {
   "base_numbering": 1,
   "nav_menu": {},
   "number_sections": true,
   "sideBar": true,
   "skip_h1_title": false,
   "title_cell": "Table of Contents",
   "title_sidebar": "Contents",
   "toc_cell": false,
   "toc_position": {},
   "toc_section_display": true,
   "toc_window_display": false
  },
  "varInspector": {
   "cols": {
    "lenName": 16,
    "lenType": 16,
    "lenVar": 40
   },
   "kernels_config": {
    "python": {
     "delete_cmd_postfix": "",
     "delete_cmd_prefix": "del ",
     "library": "var_list.py",
     "varRefreshCmd": "print(var_dic_list())"
    },
    "r": {
     "delete_cmd_postfix": ") ",
     "delete_cmd_prefix": "rm(",
     "library": "var_list.r",
     "varRefreshCmd": "cat(var_dic_list()) "
    }
   },
   "types_to_exclude": [
    "module",
    "function",
    "builtin_function_or_method",
    "instance",
    "_Feature"
   ],
   "window_display": false
  }
 },
 "nbformat": 4,
 "nbformat_minor": 4
}
