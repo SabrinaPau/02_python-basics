{
 "cells": [
  {
   "cell_type": "markdown",
   "source": [
    "# Introduction to Strings"
   ],
   "metadata": {}
  },
  {
   "cell_type": "markdown",
   "source": [
    "## Check your understanding\n",
    "**String Operation Questions**\n",
    "\n",
    "1. When does the distinction between using single and double quotes to build a string matter?\n",
    "2. Fix the following string to be considered valid and not throw an error when run.\n",
    "    * `'They told me not to do this, but I didn't listen.'`\n",
    "3. Create a variable that holds a string of your name.\n",
    "4. Create another variable that holds a string of your best friend's name.\n",
    "5. Now, use string concatenation (e.g. addition) to add 'Hello, ' before your name. \n",
    "6. Given the string 'Hello, Sean', replace each of the letter 'e''s with a 't'.\n",
    "7. Use the `.split()` method on the string 'Hello, Sean' to split it by the comma (`','`).\n",
    "    * What happens if you split by a comma and a space (`', '`)?"
   ],
   "metadata": {}
  },
  {
   "cell_type": "markdown",
   "source": [
    "## Solution\n",
    "1. when a single quote needs to be used in the next, e.g. can't\n",
    "1. \"They told me not to do this, but I didn't listen.\"\n",
    "\n",
    " "
   ],
   "metadata": {}
  },
  {
   "cell_type": "code",
   "execution_count": 5,
   "source": [
    "x=\"name\"\n",
    "y=\"name\"\n",
    "greeting=\"Hello, \" + x\n",
    "print(greeting)\n",
    "\n",
    "string = 'Hello, Sean'\n",
    "print(string.replace('e','t'))\n",
    "print(string.split(','))\n",
    "print(string.split(', ')) #the space is emitted from the second string of the split\n"
   ],
   "outputs": [
    {
     "output_type": "stream",
     "name": "stdout",
     "text": [
      "Hello, name\n",
      "Htllo, Stan\n",
      "['Hello', ' Sean']\n",
      "['Hello', 'Sean']\n"
     ]
    }
   ],
   "metadata": {}
  }
 ],
 "metadata": {
  "interpreter": {
   "hash": "7f431737fad36bc73747254a1fbc87e013b533e81a585a67520a99b40246ed61"
  },
  "kernelspec": {
   "name": "python3",
   "display_name": "Python 3.8.3 64-bit ('base': conda)"
  },
  "language_info": {
   "codemirror_mode": {
    "name": "ipython",
    "version": 3
   },
   "file_extension": ".py",
   "mimetype": "text/x-python",
   "name": "python",
   "nbconvert_exporter": "python",
   "pygments_lexer": "ipython3",
   "version": "3.8.3"
  },
  "toc": {
   "base_numbering": 1,
   "nav_menu": {},
   "number_sections": true,
   "sideBar": true,
   "skip_h1_title": false,
   "title_cell": "Table of Contents",
   "title_sidebar": "Contents",
   "toc_cell": false,
   "toc_position": {},
   "toc_section_display": true,
   "toc_window_display": false
  },
  "varInspector": {
   "cols": {
    "lenName": 16,
    "lenType": 16,
    "lenVar": 40
   },
   "kernels_config": {
    "python": {
     "delete_cmd_postfix": "",
     "delete_cmd_prefix": "del ",
     "library": "var_list.py",
     "varRefreshCmd": "print(var_dic_list())"
    },
    "r": {
     "delete_cmd_postfix": ") ",
     "delete_cmd_prefix": "rm(",
     "library": "var_list.r",
     "varRefreshCmd": "cat(var_dic_list()) "
    }
   },
   "types_to_exclude": [
    "module",
    "function",
    "builtin_function_or_method",
    "instance",
    "_Feature"
   ],
   "window_display": false
  }
 },
 "nbformat": 4,
 "nbformat_minor": 4
}