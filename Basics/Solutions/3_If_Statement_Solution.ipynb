{
 "cells": [
  {
   "cell_type": "markdown",
   "source": [
    "# Introduction to if-Statements"
   ],
   "metadata": {}
  },
  {
   "cell_type": "markdown",
   "source": [
    "## Check your understanding\n",
    "\n",
    "**If Questions**\n",
    "\n",
    "1. Write an `if` statement to check if a number is smaller than 100.\n",
    "2. Write some code that accepts a user inputted number. It checks to see if that number is positive, and if it is it adds 50 to the number. Then print the number.\n",
    "\n",
    "**Elif Else Questions**\n",
    "1. Write an `if`-`elif`-`else` statement that does the following: \n",
    "\n",
    " * Prints \"This is a single digit number.\" if `x` is a single digit number\n",
    " * Prints \"This is a double digit number.\" if `x` is a double digit number \n",
    " * Prints \"This is a big number.\" otherwise.\n",
    " \n",
    "**And Or Not Questions**\n",
    "\n",
    "1. Write the condition in Python in a single statement: if x is between 20 and 30 print x.\n",
    "2. Write the following condition in two ways using Python: if x is greater than 10 print x.\n",
    "3. Write the following condition in Python: if x isn't a positive number print x.\n",
    "4. Write the following condition in Python: if x is between 1 and 50 except the numbers between 25 to 30 print x."
   ],
   "metadata": {}
  },
  {
   "cell_type": "markdown",
   "source": [
    "## Solution"
   ],
   "metadata": {}
  },
  {
   "cell_type": "code",
   "execution_count": null,
   "source": [
    "#1.1\n",
    "x = 95\n",
    "if x < 100:\n",
    "    print(\"input smaller than 100\")"
   ],
   "outputs": [],
   "metadata": {}
  },
  {
   "cell_type": "code",
   "execution_count": null,
   "source": [
    "#1.2\n",
    "x = int(input('user inputted number: '))\n",
    "if x > 0:\n",
    "    x += 50 \n",
    "print(x)"
   ],
   "outputs": [],
   "metadata": {}
  },
  {
   "cell_type": "code",
   "execution_count": null,
   "source": [
    "#2\n",
    "x = 5\n",
    "if 10 > x > -10 :\n",
    "    print(\"This is a single digit number.\")\n",
    "elif 100 > x > 9:\n",
    "    print(\"This is a double digit number.\")\n",
    "else: \n",
    "    print(\"This is a big number.\")"
   ],
   "outputs": [],
   "metadata": {}
  },
  {
   "cell_type": "code",
   "execution_count": null,
   "source": [
    "#3.1\n",
    "x = 20\n",
    "if 19 < x < 31: \n",
    "    print(x)\n",
    "\n",
    "x = 20\n",
    "if x > 19 and x < 31: \n",
    "    print(x)"
   ],
   "outputs": [],
   "metadata": {}
  },
  {
   "cell_type": "code",
   "execution_count": null,
   "source": [
    "#3.2\n",
    "x = 11\n",
    "if x > 10:\n",
    "    print(x)\n",
    "\n",
    "x = 11\n",
    "if not x <= 10:\n",
    "    print(x)   "
   ],
   "outputs": [],
   "metadata": {}
  },
  {
   "cell_type": "code",
   "execution_count": null,
   "source": [
    "#3.3\n",
    "x = -1\n",
    "if x < 0:\n",
    "    print(x)"
   ],
   "outputs": [],
   "metadata": {}
  },
  {
   "cell_type": "code",
   "execution_count": null,
   "source": [
    "#3.4\n",
    "x = 34\n",
    "if 0 < x < 51 and not 24 < x < 31:\n",
    "    print(x)\n",
    "    "
   ],
   "outputs": [],
   "metadata": {}
  }
 ],
 "metadata": {
  "kernelspec": {
   "name": "python3",
   "display_name": "Python 3.8.5 64-bit ('nf_base': conda)"
  },
  "language_info": {
   "codemirror_mode": {
    "name": "ipython",
    "version": 3
   },
   "file_extension": ".py",
   "mimetype": "text/x-python",
   "name": "python",
   "nbconvert_exporter": "python",
   "pygments_lexer": "ipython3",
   "version": "3.8.5"
  },
  "toc": {
   "base_numbering": 1,
   "nav_menu": {},
   "number_sections": true,
   "sideBar": true,
   "skip_h1_title": false,
   "title_cell": "Table of Contents",
   "title_sidebar": "Contents",
   "toc_cell": false,
   "toc_position": {},
   "toc_section_display": true,
   "toc_window_display": false
  },
  "varInspector": {
   "cols": {
    "lenName": 16,
    "lenType": 16,
    "lenVar": 40
   },
   "kernels_config": {
    "python": {
     "delete_cmd_postfix": "",
     "delete_cmd_prefix": "del ",
     "library": "var_list.py",
     "varRefreshCmd": "print(var_dic_list())"
    },
    "r": {
     "delete_cmd_postfix": ") ",
     "delete_cmd_prefix": "rm(",
     "library": "var_list.r",
     "varRefreshCmd": "cat(var_dic_list()) "
    }
   },
   "types_to_exclude": [
    "module",
    "function",
    "builtin_function_or_method",
    "instance",
    "_Feature"
   ],
   "window_display": false
  },
  "interpreter": {
   "hash": "0e4771abb73651cc71498e03f3559c7e0f15f38d5124065b3832974a7bbffea7"
  }
 },
 "nbformat": 4,
 "nbformat_minor": 4
}